{
 "cells": [
  {
   "cell_type": "code",
   "execution_count": 51,
   "metadata": {},
   "outputs": [],
   "source": [
    "import pandas as pd\n",
    "import numpy as np\n",
    "import requests\n",
    "import time\n",
    "from tqdm import tqdm_notebook"
   ]
  },
  {
   "cell_type": "markdown",
   "metadata": {},
   "source": [
    "### 국토교통부 실거래가 공개시스템 활용법\n",
    "* http://rtdown.molit.go.kr/\n",
    "* 주소 형식은 우선 지번주소로 진행, 도로명주소로 했을 경우 아래 parameter값 설정 시 type값 맞춰서 변경\n",
    "* 조건 설정 후 다운로드 받을 때, EXCEL 형식으로 선택(CSV) 선택 시 알수없는 인코딩 형식으로 다운로드되어 읽지 못함)\n",
    "* 엑셀로 다운로드 파일 열어서 설명 부분 지우고, 칼럼명과 데이터값만 남기고 CSV로 저장하면 pandas dataframe으로 읽기 가능\n",
    "* 거래금액 칼럼에 천단위 컴마(,)까지 저장되지 않도록, 엑셀에서 셀 서식에서 수정 후 저장"
   ]
  },
  {
   "cell_type": "code",
   "execution_count": 52,
   "metadata": {},
   "outputs": [],
   "source": [
    "data = pd.read_csv(\"../data_apt/seoul_20190611161639.csv\")"
   ]
  },
  {
   "cell_type": "code",
   "execution_count": 53,
   "metadata": {},
   "outputs": [
    {
     "data": {
      "text/plain": [
       "(1458, 12)"
      ]
     },
     "execution_count": 53,
     "metadata": {},
     "output_type": "execute_result"
    }
   ],
   "source": [
    "data.shape"
   ]
  },
  {
   "cell_type": "code",
   "execution_count": 54,
   "metadata": {},
   "outputs": [
    {
     "data": {
      "text/plain": [
       "RangeIndex(start=0, stop=1458, step=1)"
      ]
     },
     "execution_count": 54,
     "metadata": {},
     "output_type": "execute_result"
    }
   ],
   "source": [
    "data.index"
   ]
  },
  {
   "cell_type": "code",
   "execution_count": 55,
   "metadata": {},
   "outputs": [
    {
     "data": {
      "text/html": [
       "<div>\n",
       "<style scoped>\n",
       "    .dataframe tbody tr th:only-of-type {\n",
       "        vertical-align: middle;\n",
       "    }\n",
       "\n",
       "    .dataframe tbody tr th {\n",
       "        vertical-align: top;\n",
       "    }\n",
       "\n",
       "    .dataframe thead th {\n",
       "        text-align: right;\n",
       "    }\n",
       "</style>\n",
       "<table border=\"1\" class=\"dataframe\">\n",
       "  <thead>\n",
       "    <tr style=\"text-align: right;\">\n",
       "      <th></th>\n",
       "      <th>시군구</th>\n",
       "      <th>번지</th>\n",
       "      <th>본번</th>\n",
       "      <th>부번</th>\n",
       "      <th>단지명</th>\n",
       "      <th>전용면적(㎡)</th>\n",
       "      <th>계약년월</th>\n",
       "      <th>계약일</th>\n",
       "      <th>거래금액(만원)</th>\n",
       "      <th>층</th>\n",
       "      <th>건축년도</th>\n",
       "      <th>도로명</th>\n",
       "    </tr>\n",
       "  </thead>\n",
       "  <tbody>\n",
       "    <tr>\n",
       "      <th>0</th>\n",
       "      <td>서울특별시 강남구 개포동</td>\n",
       "      <td>658-1</td>\n",
       "      <td>658</td>\n",
       "      <td>1</td>\n",
       "      <td>개포6차우성아파트1동~8동</td>\n",
       "      <td>67.28</td>\n",
       "      <td>201905</td>\n",
       "      <td>4</td>\n",
       "      <td>124000</td>\n",
       "      <td>4</td>\n",
       "      <td>1987</td>\n",
       "      <td>언주로</td>\n",
       "    </tr>\n",
       "    <tr>\n",
       "      <th>1</th>\n",
       "      <td>서울특별시 강남구 개포동</td>\n",
       "      <td>141</td>\n",
       "      <td>141</td>\n",
       "      <td>0</td>\n",
       "      <td>개포주공 1단지</td>\n",
       "      <td>35.64</td>\n",
       "      <td>201905</td>\n",
       "      <td>4</td>\n",
       "      <td>135000</td>\n",
       "      <td>5</td>\n",
       "      <td>1982</td>\n",
       "      <td>개포로</td>\n",
       "    </tr>\n",
       "    <tr>\n",
       "      <th>2</th>\n",
       "      <td>서울특별시 강남구 개포동</td>\n",
       "      <td>141</td>\n",
       "      <td>141</td>\n",
       "      <td>0</td>\n",
       "      <td>개포주공 1단지</td>\n",
       "      <td>42.55</td>\n",
       "      <td>201905</td>\n",
       "      <td>6</td>\n",
       "      <td>150000</td>\n",
       "      <td>1</td>\n",
       "      <td>1982</td>\n",
       "      <td>개포로</td>\n",
       "    </tr>\n",
       "    <tr>\n",
       "      <th>3</th>\n",
       "      <td>서울특별시 강남구 개포동</td>\n",
       "      <td>141</td>\n",
       "      <td>141</td>\n",
       "      <td>0</td>\n",
       "      <td>개포주공 1단지</td>\n",
       "      <td>50.38</td>\n",
       "      <td>201905</td>\n",
       "      <td>6</td>\n",
       "      <td>199000</td>\n",
       "      <td>5</td>\n",
       "      <td>1982</td>\n",
       "      <td>개포로</td>\n",
       "    </tr>\n",
       "    <tr>\n",
       "      <th>4</th>\n",
       "      <td>서울특별시 강남구 개포동</td>\n",
       "      <td>141</td>\n",
       "      <td>141</td>\n",
       "      <td>0</td>\n",
       "      <td>개포주공 1단지</td>\n",
       "      <td>58.08</td>\n",
       "      <td>201905</td>\n",
       "      <td>6</td>\n",
       "      <td>192000</td>\n",
       "      <td>3</td>\n",
       "      <td>1982</td>\n",
       "      <td>개포로</td>\n",
       "    </tr>\n",
       "  </tbody>\n",
       "</table>\n",
       "</div>"
      ],
      "text/plain": [
       "             시군구     번지   본번  부번             단지명  전용면적(㎡)    계약년월  계약일  \\\n",
       "0  서울특별시 강남구 개포동  658-1  658   1  개포6차우성아파트1동~8동    67.28  201905    4   \n",
       "1  서울특별시 강남구 개포동    141  141   0        개포주공 1단지    35.64  201905    4   \n",
       "2  서울특별시 강남구 개포동    141  141   0        개포주공 1단지    42.55  201905    6   \n",
       "3  서울특별시 강남구 개포동    141  141   0        개포주공 1단지    50.38  201905    6   \n",
       "4  서울특별시 강남구 개포동    141  141   0        개포주공 1단지    58.08  201905    6   \n",
       "\n",
       "   거래금액(만원)  층  건축년도  도로명  \n",
       "0    124000  4  1987  언주로  \n",
       "1    135000  5  1982  개포로  \n",
       "2    150000  1  1982  개포로  \n",
       "3    199000  5  1982  개포로  \n",
       "4    192000  3  1982  개포로  "
      ]
     },
     "execution_count": 55,
     "metadata": {},
     "output_type": "execute_result"
    }
   ],
   "source": [
    "data.head()"
   ]
  },
  {
   "cell_type": "markdown",
   "metadata": {},
   "source": [
    "### vworld 오픈 API 활용법\n",
    "* http://www.vworld.kr/\n",
    "* 회원가입 후 \"인증키 > 인증키 발급\" 메뉴에서 인증키 발급(단, 4월 19일 이후 당분간 인증키 발급 중단 ㅠ.ㅠ)\n",
    "* 발급되면 \"인증키 > 인증키 관리\" 메뉴에서 확인하여 사용 가능\n",
    "* 일일 30,000건 사용 가능하므로 이보다 많을 때에는 날짜를 나누어 사용 필요\n",
    "* Geocoder API 2.0 레퍼런스 참조하여 활용\n",
    "* http://www.vworld.kr/dev/v4dv_geocoderguide2_s001.do\n",
    "* 주소를 좌표(위/경도), 좌표를 주소로 변환할 수 있음"
   ]
  },
  {
   "cell_type": "code",
   "execution_count": 56,
   "metadata": {},
   "outputs": [],
   "source": [
    "# 주소 > 좌표 변화을 위한 URL 호출 방식\n",
    "# http://api.vworld.kr/req/address?service=address&request=getCoord&key=인증키&[요청파라미터]\n",
    "# URL 조합을 위해 아래 2개의 변수에 URL과 API 인증키 저장\n",
    "url = \"http://api.vworld.kr/req/address?service=address&request=getCoord&key=\"\n",
    "api_key = \"\" # API 인증키 입력"
   ]
  },
  {
   "cell_type": "code",
   "execution_count": 58,
   "metadata": {},
   "outputs": [
    {
     "data": {
      "text/plain": [
       "1458"
      ]
     },
     "execution_count": 58,
     "metadata": {},
     "output_type": "execute_result"
    }
   ],
   "source": [
    "# data row 개수 확인\n",
    "len(data)"
   ]
  },
  {
   "cell_type": "code",
   "execution_count": 23,
   "metadata": {},
   "outputs": [
    {
     "data": {
      "text/plain": [
       "range(0, 1458)"
      ]
     },
     "execution_count": 23,
     "metadata": {},
     "output_type": "execute_result"
    }
   ],
   "source": [
    "# for문 사용을 위해 range 확인\n",
    "# range([start,] stop [,step]) 형식으로 활용\n",
    "# stop 값만 넣으면, 0~stop값까지 1씩 카운트하며 리턴(ex : range(5) > 0, 1, 2, 3, 4, 5)\n",
    "range(len(data))"
   ]
  },
  {
   "cell_type": "code",
   "execution_count": 59,
   "metadata": {},
   "outputs": [
    {
     "name": "stdout",
     "output_type": "stream",
     "text": [
      "0\n",
      "1\n",
      "2\n",
      "3\n",
      "4\n"
     ]
    }
   ],
   "source": [
    "# for, range 구문 셈플 코드\n",
    "for i in range(5):\n",
    "    print(i)"
   ]
  },
  {
   "cell_type": "code",
   "execution_count": 60,
   "metadata": {},
   "outputs": [
    {
     "data": {
      "text/plain": [
       "'서울특별시 강남구 개포동'"
      ]
     },
     "execution_count": 60,
     "metadata": {},
     "output_type": "execute_result"
    }
   ],
   "source": [
    "# 첫번째(0번째) 열의 시구군 행 값 확인\n",
    "data.loc[0, \"시군구\"]"
   ]
  },
  {
   "cell_type": "code",
   "execution_count": 61,
   "metadata": {},
   "outputs": [
    {
     "name": "stdout",
     "output_type": "stream",
     "text": [
      "서울특별시 강남구 개포동 658-1\n"
     ]
    }
   ],
   "source": [
    "# 시구군 + 공백 + 번지로 주소(address) 조합\n",
    "address = data.loc[0, \"시군구\"] + \" \" + data.loc[0, \"번지\"]\n",
    "print(address)"
   ]
  },
  {
   "cell_type": "code",
   "execution_count": 62,
   "metadata": {},
   "outputs": [
    {
     "name": "stdout",
     "output_type": "stream",
     "text": [
      "http://api.vworld.kr/req/address?service=address&request=getCoord&key=78A60B42-1A46-3D9B-AF34-DA3EB57C121D&type=PARCEL&address=서울특별시 강남구 개포동 658-1\n"
     ]
    }
   ],
   "source": [
    "# 앞서 API 호출을 위해 조합한 url, api_key값과 주소를 결합하여 요청할 URL 생성\n",
    "# type 파라미터(prarmeter)는 PARCEL : 지번주소, ROAD : 도로명주소\n",
    "# 다운받을 때\n",
    "request_url = url + api_key + \"&type=PARCEL&address=\" + address\n",
    "print(request_url)"
   ]
  },
  {
   "cell_type": "code",
   "execution_count": 63,
   "metadata": {},
   "outputs": [
    {
     "data": {
      "text/plain": [
       "<Response [200]>"
      ]
     },
     "execution_count": 63,
     "metadata": {},
     "output_type": "execute_result"
    }
   ],
   "source": [
    "# 조합한 URL 호출하여 리턴값 변수에 저장\n",
    "# response값이 보통 200대면 정상, 300번대는 리다이렉션, \n",
    "# 400번대 클라이언트 에러, 500번대 서버 에러\n",
    "r = requests.get(request_url)\n",
    "r"
   ]
  },
  {
   "cell_type": "code",
   "execution_count": 64,
   "metadata": {},
   "outputs": [
    {
     "data": {
      "text/plain": [
       "{'response': {'service': {'name': 'address',\n",
       "   'version': '2.0',\n",
       "   'operation': 'getCoord',\n",
       "   'time': '740(ms)'},\n",
       "  'status': 'OK',\n",
       "  'input': {'type': 'PARCEL', 'address': '서울특별시 강남구 개포동 658-1'},\n",
       "  'refined': {'text': '서울특별시 강남구 개포동 658-1',\n",
       "   'structure': {'level0': '',\n",
       "    'level1': '',\n",
       "    'level2': '',\n",
       "    'level3': '',\n",
       "    'level4L': '',\n",
       "    'level4LC': '',\n",
       "    'level4A': '',\n",
       "    'level4AC': '',\n",
       "    'level5': '',\n",
       "    'detail': ''}},\n",
       "  'result': {'crs': 'EPSG:4326',\n",
       "   'point': {'x': '127.057216059296', 'y': '37.4762144592679'}}}}"
      ]
     },
     "execution_count": 64,
     "metadata": {},
     "output_type": "execute_result"
    }
   ],
   "source": [
    "# 리턴받은 json을 파싱하기 위해 json() 모듈 활용\n",
    "geocoord_json = r.json()\n",
    "geocoord_json"
   ]
  },
  {
   "cell_type": "code",
   "execution_count": 65,
   "metadata": {},
   "outputs": [
    {
     "name": "stdout",
     "output_type": "stream",
     "text": [
      "127.057216059296 37.4762144592679\n"
     ]
    }
   ],
   "source": [
    "# csr은 응답결과 좌표계를 의미 (EPSG:4326 = WGS84 경위도)\n",
    "# x좌표 = 경도, y좌표 = 위도\n",
    "geo_x = float(geocoord_json['response']['result']['point']['x'])\n",
    "geo_y = float(geocoord_json['response']['result']['point']['y'])\n",
    "print(geo_x, geo_y)"
   ]
  },
  {
   "cell_type": "code",
   "execution_count": 66,
   "metadata": {},
   "outputs": [
    {
     "name": "stdout",
     "output_type": "stream",
     "text": [
      "0\n",
      "1\n",
      "2\n",
      "3\n",
      "4\n"
     ]
    }
   ],
   "source": [
    "# time.sleep 이용하면, 딜레이타임 설정 가능\n",
    "# 없어도 상관 없으나 서버/클라이언트간 속도 고려 필요 시 적용\n",
    "for i in range(5):\n",
    "    print(i)\n",
    "    time.sleep(2)"
   ]
  },
  {
   "cell_type": "code",
   "execution_count": 67,
   "metadata": {},
   "outputs": [
    {
     "data": {
      "application/vnd.jupyter.widget-view+json": {
       "model_id": "b13970b3f9e04143b2bce5b6536ba0a5",
       "version_major": 2,
       "version_minor": 0
      },
      "text/plain": [
       "HBox(children=(IntProgress(value=0, max=5), HTML(value='')))"
      ]
     },
     "metadata": {},
     "output_type": "display_data"
    },
    {
     "name": "stdout",
     "output_type": "stream",
     "text": [
      "0\n",
      "1\n",
      "2\n",
      "3\n",
      "4\n",
      "\n"
     ]
    }
   ],
   "source": [
    "# tqdm_notebook 활용하면, jupyter notebook에서 시각적으로 % 확인 가능\n",
    "for i in tqdm_notebook(range(5)):\n",
    "    print(i)\n",
    "    time.sleep(2)"
   ]
  },
  {
   "cell_type": "code",
   "execution_count": 68,
   "metadata": {},
   "outputs": [
    {
     "data": {
      "application/vnd.jupyter.widget-view+json": {
       "model_id": "c692861aa58b4ec3b9bf79220be157b9",
       "version_major": 2,
       "version_minor": 0
      },
      "text/plain": [
       "HBox(children=(IntProgress(value=0, max=5), HTML(value='')))"
      ]
     },
     "metadata": {},
     "output_type": "display_data"
    },
    {
     "name": "stdout",
     "output_type": "stream",
     "text": [
      "\n"
     ]
    }
   ],
   "source": [
    "# for 문으로 순차적으로 경/위도 좌표값을 받아와 새로운 칼럼에 추가하는 코드 작성\n",
    "# 우선 5개 정도 받아오도록 하고, 이후 이상 없으면 전체 적용\n",
    "for i in tqdm_notebook(range(5)):\n",
    "    address = data.loc[i, \"시군구\"] + \" \" + data.loc[i, \"번지\"]\n",
    "    request_url = url + api_key + \"&type=PARCEL&address=\" + address\n",
    "    r = requests.get(request_url)\n",
    "    geocoord_json = r.json()\n",
    "    data.loc[i, \"geo_x\"] = float(geocoord_json['response']['result']['point']['x'])\n",
    "    data.loc[i, \"geo_y\"] = float(geocoord_json['response']['result']['point']['y'])"
   ]
  },
  {
   "cell_type": "code",
   "execution_count": 69,
   "metadata": {},
   "outputs": [
    {
     "data": {
      "text/html": [
       "<div>\n",
       "<style scoped>\n",
       "    .dataframe tbody tr th:only-of-type {\n",
       "        vertical-align: middle;\n",
       "    }\n",
       "\n",
       "    .dataframe tbody tr th {\n",
       "        vertical-align: top;\n",
       "    }\n",
       "\n",
       "    .dataframe thead th {\n",
       "        text-align: right;\n",
       "    }\n",
       "</style>\n",
       "<table border=\"1\" class=\"dataframe\">\n",
       "  <thead>\n",
       "    <tr style=\"text-align: right;\">\n",
       "      <th></th>\n",
       "      <th>시군구</th>\n",
       "      <th>번지</th>\n",
       "      <th>본번</th>\n",
       "      <th>부번</th>\n",
       "      <th>단지명</th>\n",
       "      <th>전용면적(㎡)</th>\n",
       "      <th>계약년월</th>\n",
       "      <th>계약일</th>\n",
       "      <th>거래금액(만원)</th>\n",
       "      <th>층</th>\n",
       "      <th>건축년도</th>\n",
       "      <th>도로명</th>\n",
       "      <th>geo_x</th>\n",
       "      <th>geo_y</th>\n",
       "    </tr>\n",
       "  </thead>\n",
       "  <tbody>\n",
       "    <tr>\n",
       "      <th>0</th>\n",
       "      <td>서울특별시 강남구 개포동</td>\n",
       "      <td>658-1</td>\n",
       "      <td>658</td>\n",
       "      <td>1</td>\n",
       "      <td>개포6차우성아파트1동~8동</td>\n",
       "      <td>67.28</td>\n",
       "      <td>201905</td>\n",
       "      <td>4</td>\n",
       "      <td>124000</td>\n",
       "      <td>4</td>\n",
       "      <td>1987</td>\n",
       "      <td>언주로</td>\n",
       "      <td>127.057216</td>\n",
       "      <td>37.476214</td>\n",
       "    </tr>\n",
       "    <tr>\n",
       "      <th>1</th>\n",
       "      <td>서울특별시 강남구 개포동</td>\n",
       "      <td>141</td>\n",
       "      <td>141</td>\n",
       "      <td>0</td>\n",
       "      <td>개포주공 1단지</td>\n",
       "      <td>35.64</td>\n",
       "      <td>201905</td>\n",
       "      <td>4</td>\n",
       "      <td>135000</td>\n",
       "      <td>5</td>\n",
       "      <td>1982</td>\n",
       "      <td>개포로</td>\n",
       "      <td>127.061647</td>\n",
       "      <td>37.478510</td>\n",
       "    </tr>\n",
       "    <tr>\n",
       "      <th>2</th>\n",
       "      <td>서울특별시 강남구 개포동</td>\n",
       "      <td>141</td>\n",
       "      <td>141</td>\n",
       "      <td>0</td>\n",
       "      <td>개포주공 1단지</td>\n",
       "      <td>42.55</td>\n",
       "      <td>201905</td>\n",
       "      <td>6</td>\n",
       "      <td>150000</td>\n",
       "      <td>1</td>\n",
       "      <td>1982</td>\n",
       "      <td>개포로</td>\n",
       "      <td>127.061647</td>\n",
       "      <td>37.478510</td>\n",
       "    </tr>\n",
       "    <tr>\n",
       "      <th>3</th>\n",
       "      <td>서울특별시 강남구 개포동</td>\n",
       "      <td>141</td>\n",
       "      <td>141</td>\n",
       "      <td>0</td>\n",
       "      <td>개포주공 1단지</td>\n",
       "      <td>50.38</td>\n",
       "      <td>201905</td>\n",
       "      <td>6</td>\n",
       "      <td>199000</td>\n",
       "      <td>5</td>\n",
       "      <td>1982</td>\n",
       "      <td>개포로</td>\n",
       "      <td>127.061647</td>\n",
       "      <td>37.478510</td>\n",
       "    </tr>\n",
       "    <tr>\n",
       "      <th>4</th>\n",
       "      <td>서울특별시 강남구 개포동</td>\n",
       "      <td>141</td>\n",
       "      <td>141</td>\n",
       "      <td>0</td>\n",
       "      <td>개포주공 1단지</td>\n",
       "      <td>58.08</td>\n",
       "      <td>201905</td>\n",
       "      <td>6</td>\n",
       "      <td>192000</td>\n",
       "      <td>3</td>\n",
       "      <td>1982</td>\n",
       "      <td>개포로</td>\n",
       "      <td>127.061647</td>\n",
       "      <td>37.478510</td>\n",
       "    </tr>\n",
       "    <tr>\n",
       "      <th>5</th>\n",
       "      <td>서울특별시 강남구 개포동</td>\n",
       "      <td>141</td>\n",
       "      <td>141</td>\n",
       "      <td>0</td>\n",
       "      <td>개포주공 1단지</td>\n",
       "      <td>41.98</td>\n",
       "      <td>201905</td>\n",
       "      <td>6</td>\n",
       "      <td>151500</td>\n",
       "      <td>5</td>\n",
       "      <td>1982</td>\n",
       "      <td>개포로</td>\n",
       "      <td>NaN</td>\n",
       "      <td>NaN</td>\n",
       "    </tr>\n",
       "    <tr>\n",
       "      <th>6</th>\n",
       "      <td>서울특별시 강남구 개포동</td>\n",
       "      <td>141</td>\n",
       "      <td>141</td>\n",
       "      <td>0</td>\n",
       "      <td>개포주공 1단지</td>\n",
       "      <td>35.87</td>\n",
       "      <td>201905</td>\n",
       "      <td>6</td>\n",
       "      <td>137500</td>\n",
       "      <td>3</td>\n",
       "      <td>1982</td>\n",
       "      <td>개포로</td>\n",
       "      <td>NaN</td>\n",
       "      <td>NaN</td>\n",
       "    </tr>\n",
       "    <tr>\n",
       "      <th>7</th>\n",
       "      <td>서울특별시 강남구 개포동</td>\n",
       "      <td>141</td>\n",
       "      <td>141</td>\n",
       "      <td>0</td>\n",
       "      <td>개포주공 1단지</td>\n",
       "      <td>41.98</td>\n",
       "      <td>201905</td>\n",
       "      <td>7</td>\n",
       "      <td>151000</td>\n",
       "      <td>5</td>\n",
       "      <td>1982</td>\n",
       "      <td>개포로</td>\n",
       "      <td>NaN</td>\n",
       "      <td>NaN</td>\n",
       "    </tr>\n",
       "    <tr>\n",
       "      <th>8</th>\n",
       "      <td>서울특별시 강남구 개포동</td>\n",
       "      <td>141</td>\n",
       "      <td>141</td>\n",
       "      <td>0</td>\n",
       "      <td>개포주공 1단지</td>\n",
       "      <td>58.08</td>\n",
       "      <td>201905</td>\n",
       "      <td>7</td>\n",
       "      <td>193000</td>\n",
       "      <td>3</td>\n",
       "      <td>1982</td>\n",
       "      <td>개포로</td>\n",
       "      <td>NaN</td>\n",
       "      <td>NaN</td>\n",
       "    </tr>\n",
       "    <tr>\n",
       "      <th>9</th>\n",
       "      <td>서울특별시 강남구 개포동</td>\n",
       "      <td>141</td>\n",
       "      <td>141</td>\n",
       "      <td>0</td>\n",
       "      <td>개포주공 1단지</td>\n",
       "      <td>56.57</td>\n",
       "      <td>201905</td>\n",
       "      <td>8</td>\n",
       "      <td>245000</td>\n",
       "      <td>5</td>\n",
       "      <td>1982</td>\n",
       "      <td>선릉로</td>\n",
       "      <td>NaN</td>\n",
       "      <td>NaN</td>\n",
       "    </tr>\n",
       "  </tbody>\n",
       "</table>\n",
       "</div>"
      ],
      "text/plain": [
       "             시군구     번지   본번  부번             단지명  전용면적(㎡)    계약년월  계약일  \\\n",
       "0  서울특별시 강남구 개포동  658-1  658   1  개포6차우성아파트1동~8동    67.28  201905    4   \n",
       "1  서울특별시 강남구 개포동    141  141   0        개포주공 1단지    35.64  201905    4   \n",
       "2  서울특별시 강남구 개포동    141  141   0        개포주공 1단지    42.55  201905    6   \n",
       "3  서울특별시 강남구 개포동    141  141   0        개포주공 1단지    50.38  201905    6   \n",
       "4  서울특별시 강남구 개포동    141  141   0        개포주공 1단지    58.08  201905    6   \n",
       "5  서울특별시 강남구 개포동    141  141   0        개포주공 1단지    41.98  201905    6   \n",
       "6  서울특별시 강남구 개포동    141  141   0        개포주공 1단지    35.87  201905    6   \n",
       "7  서울특별시 강남구 개포동    141  141   0        개포주공 1단지    41.98  201905    7   \n",
       "8  서울특별시 강남구 개포동    141  141   0        개포주공 1단지    58.08  201905    7   \n",
       "9  서울특별시 강남구 개포동    141  141   0        개포주공 1단지    56.57  201905    8   \n",
       "\n",
       "   거래금액(만원)  층  건축년도  도로명       geo_x      geo_y  \n",
       "0    124000  4  1987  언주로  127.057216  37.476214  \n",
       "1    135000  5  1982  개포로  127.061647  37.478510  \n",
       "2    150000  1  1982  개포로  127.061647  37.478510  \n",
       "3    199000  5  1982  개포로  127.061647  37.478510  \n",
       "4    192000  3  1982  개포로  127.061647  37.478510  \n",
       "5    151500  5  1982  개포로         NaN        NaN  \n",
       "6    137500  3  1982  개포로         NaN        NaN  \n",
       "7    151000  5  1982  개포로         NaN        NaN  \n",
       "8    193000  3  1982  개포로         NaN        NaN  \n",
       "9    245000  5  1982  선릉로         NaN        NaN  "
      ]
     },
     "execution_count": 69,
     "metadata": {},
     "output_type": "execute_result"
    }
   ],
   "source": [
    "data.head(10)"
   ]
  },
  {
   "cell_type": "code",
   "execution_count": 70,
   "metadata": {},
   "outputs": [],
   "source": [
    "del data[\"geo_x\"]\n",
    "del data[\"geo_y\"]"
   ]
  },
  {
   "cell_type": "code",
   "execution_count": 71,
   "metadata": {},
   "outputs": [
    {
     "data": {
      "text/html": [
       "<div>\n",
       "<style scoped>\n",
       "    .dataframe tbody tr th:only-of-type {\n",
       "        vertical-align: middle;\n",
       "    }\n",
       "\n",
       "    .dataframe tbody tr th {\n",
       "        vertical-align: top;\n",
       "    }\n",
       "\n",
       "    .dataframe thead th {\n",
       "        text-align: right;\n",
       "    }\n",
       "</style>\n",
       "<table border=\"1\" class=\"dataframe\">\n",
       "  <thead>\n",
       "    <tr style=\"text-align: right;\">\n",
       "      <th></th>\n",
       "      <th>시군구</th>\n",
       "      <th>번지</th>\n",
       "      <th>본번</th>\n",
       "      <th>부번</th>\n",
       "      <th>단지명</th>\n",
       "      <th>전용면적(㎡)</th>\n",
       "      <th>계약년월</th>\n",
       "      <th>계약일</th>\n",
       "      <th>거래금액(만원)</th>\n",
       "      <th>층</th>\n",
       "      <th>건축년도</th>\n",
       "      <th>도로명</th>\n",
       "    </tr>\n",
       "  </thead>\n",
       "  <tbody>\n",
       "    <tr>\n",
       "      <th>0</th>\n",
       "      <td>서울특별시 강남구 개포동</td>\n",
       "      <td>658-1</td>\n",
       "      <td>658</td>\n",
       "      <td>1</td>\n",
       "      <td>개포6차우성아파트1동~8동</td>\n",
       "      <td>67.28</td>\n",
       "      <td>201905</td>\n",
       "      <td>4</td>\n",
       "      <td>124000</td>\n",
       "      <td>4</td>\n",
       "      <td>1987</td>\n",
       "      <td>언주로</td>\n",
       "    </tr>\n",
       "    <tr>\n",
       "      <th>1</th>\n",
       "      <td>서울특별시 강남구 개포동</td>\n",
       "      <td>141</td>\n",
       "      <td>141</td>\n",
       "      <td>0</td>\n",
       "      <td>개포주공 1단지</td>\n",
       "      <td>35.64</td>\n",
       "      <td>201905</td>\n",
       "      <td>4</td>\n",
       "      <td>135000</td>\n",
       "      <td>5</td>\n",
       "      <td>1982</td>\n",
       "      <td>개포로</td>\n",
       "    </tr>\n",
       "    <tr>\n",
       "      <th>2</th>\n",
       "      <td>서울특별시 강남구 개포동</td>\n",
       "      <td>141</td>\n",
       "      <td>141</td>\n",
       "      <td>0</td>\n",
       "      <td>개포주공 1단지</td>\n",
       "      <td>42.55</td>\n",
       "      <td>201905</td>\n",
       "      <td>6</td>\n",
       "      <td>150000</td>\n",
       "      <td>1</td>\n",
       "      <td>1982</td>\n",
       "      <td>개포로</td>\n",
       "    </tr>\n",
       "    <tr>\n",
       "      <th>3</th>\n",
       "      <td>서울특별시 강남구 개포동</td>\n",
       "      <td>141</td>\n",
       "      <td>141</td>\n",
       "      <td>0</td>\n",
       "      <td>개포주공 1단지</td>\n",
       "      <td>50.38</td>\n",
       "      <td>201905</td>\n",
       "      <td>6</td>\n",
       "      <td>199000</td>\n",
       "      <td>5</td>\n",
       "      <td>1982</td>\n",
       "      <td>개포로</td>\n",
       "    </tr>\n",
       "    <tr>\n",
       "      <th>4</th>\n",
       "      <td>서울특별시 강남구 개포동</td>\n",
       "      <td>141</td>\n",
       "      <td>141</td>\n",
       "      <td>0</td>\n",
       "      <td>개포주공 1단지</td>\n",
       "      <td>58.08</td>\n",
       "      <td>201905</td>\n",
       "      <td>6</td>\n",
       "      <td>192000</td>\n",
       "      <td>3</td>\n",
       "      <td>1982</td>\n",
       "      <td>개포로</td>\n",
       "    </tr>\n",
       "    <tr>\n",
       "      <th>5</th>\n",
       "      <td>서울특별시 강남구 개포동</td>\n",
       "      <td>141</td>\n",
       "      <td>141</td>\n",
       "      <td>0</td>\n",
       "      <td>개포주공 1단지</td>\n",
       "      <td>41.98</td>\n",
       "      <td>201905</td>\n",
       "      <td>6</td>\n",
       "      <td>151500</td>\n",
       "      <td>5</td>\n",
       "      <td>1982</td>\n",
       "      <td>개포로</td>\n",
       "    </tr>\n",
       "    <tr>\n",
       "      <th>6</th>\n",
       "      <td>서울특별시 강남구 개포동</td>\n",
       "      <td>141</td>\n",
       "      <td>141</td>\n",
       "      <td>0</td>\n",
       "      <td>개포주공 1단지</td>\n",
       "      <td>35.87</td>\n",
       "      <td>201905</td>\n",
       "      <td>6</td>\n",
       "      <td>137500</td>\n",
       "      <td>3</td>\n",
       "      <td>1982</td>\n",
       "      <td>개포로</td>\n",
       "    </tr>\n",
       "  </tbody>\n",
       "</table>\n",
       "</div>"
      ],
      "text/plain": [
       "             시군구     번지   본번  부번             단지명  전용면적(㎡)    계약년월  계약일  \\\n",
       "0  서울특별시 강남구 개포동  658-1  658   1  개포6차우성아파트1동~8동    67.28  201905    4   \n",
       "1  서울특별시 강남구 개포동    141  141   0        개포주공 1단지    35.64  201905    4   \n",
       "2  서울특별시 강남구 개포동    141  141   0        개포주공 1단지    42.55  201905    6   \n",
       "3  서울특별시 강남구 개포동    141  141   0        개포주공 1단지    50.38  201905    6   \n",
       "4  서울특별시 강남구 개포동    141  141   0        개포주공 1단지    58.08  201905    6   \n",
       "5  서울특별시 강남구 개포동    141  141   0        개포주공 1단지    41.98  201905    6   \n",
       "6  서울특별시 강남구 개포동    141  141   0        개포주공 1단지    35.87  201905    6   \n",
       "\n",
       "   거래금액(만원)  층  건축년도  도로명  \n",
       "0    124000  4  1987  언주로  \n",
       "1    135000  5  1982  개포로  \n",
       "2    150000  1  1982  개포로  \n",
       "3    199000  5  1982  개포로  \n",
       "4    192000  3  1982  개포로  \n",
       "5    151500  5  1982  개포로  \n",
       "6    137500  3  1982  개포로  "
      ]
     },
     "execution_count": 71,
     "metadata": {},
     "output_type": "execute_result"
    }
   ],
   "source": [
    "data.head(7)"
   ]
  },
  {
   "cell_type": "code",
   "execution_count": null,
   "metadata": {},
   "outputs": [],
   "source": [
    "# 전체 주소 > 좌표값 받아오도록 수정\n",
    "# for i in tqdm_notebook(range(5)):\n",
    "for i in tqdm_notebook(len(data)):\n",
    "    address = data.loc[i, \"시군구\"] + \" \" + data.loc[i, \"번지\"]\n",
    "    request_url = url + api_key + \"&type=PARCEL&address=\" + address\n",
    "    r = requests.get(request_url)\n",
    "    geocoord_json = r.json()\n",
    "    data.loc[i, \"geo_x\"] = float(geocoord_json['response']['result']['point']['x'])\n",
    "    data.loc[i, \"geo_y\"] = float(geocoord_json['response']['result']['point']['y'])"
   ]
  }
 ],
 "metadata": {
  "kernelspec": {
   "display_name": "Python 3",
   "language": "python",
   "name": "python3"
  },
  "language_info": {
   "codemirror_mode": {
    "name": "ipython",
    "version": 3
   },
   "file_extension": ".py",
   "mimetype": "text/x-python",
   "name": "python",
   "nbconvert_exporter": "python",
   "pygments_lexer": "ipython3",
   "version": "3.6.8"
  }
 },
 "nbformat": 4,
 "nbformat_minor": 2
}
